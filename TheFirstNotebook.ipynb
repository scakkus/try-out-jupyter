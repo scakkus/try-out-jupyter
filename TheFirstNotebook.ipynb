{
 "cells": [
  {
   "cell_type": "markdown",
   "metadata": {},
   "source": [
    "# hello this should not be python \n",
    " - this is a list\n",
    "   + toast\n",
    "   + bananas\n",
    "   + bread\n",
    "   \n",
    "   Please click here: [The Notebook ](http://localhost:8888/notebooks/Desktop/AnacondaFirstProject/TheFirstNotebook.ipynb)"
   ]
  }
 ],
 "metadata": {
  "kernelspec": {
   "display_name": "Python 3",
   "language": "python",
   "name": "python3"
  },
  "language_info": {
   "codemirror_mode": {
    "name": "ipython",
    "version": 3
   },
   "file_extension": ".py",
   "mimetype": "text/x-python",
   "name": "python",
   "nbconvert_exporter": "python",
   "pygments_lexer": "ipython3",
   "version": "3.8.5"
  }
 },
 "nbformat": 4,
 "nbformat_minor": 4
}
